{
  "nbformat": 4,
  "nbformat_minor": 0,
  "metadata": {
    "colab": {
      "provenance": []
    },
    "kernelspec": {
      "name": "python3",
      "display_name": "Python 3"
    },
    "language_info": {
      "name": "python"
    }
  },
  "cells": [
    {
      "cell_type": "markdown",
      "source": [
        "# **Home Data for ML Courses**\n",
        "[data link](https://www.kaggle.com/code/anjueduminds/exercise-explore-your-data/edit)\n",
        "![images (10).jpeg](data:image/jpeg;base64,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)"
      ],
      "metadata": {
        "id": "Ty5X_boypltW"
      }
    },
    {
      "cell_type": "markdown",
      "source": [
        "#**Step 1: Loading Data**"
      ],
      "metadata": {
        "id": "TjyXGo5cuYPB"
      }
    },
    {
      "source": [
        "import pandas as pd\n",
        "import numpy as np\n",
        "import matplotlib.pyplot as plt\n",
        "import seaborn as sns\n",
        "\n",
        "# path of the file to read\n",
        "file_path =  ('/content/train data set.csv')\n",
        "# read the file into a variable home_data\n",
        "home_data = pd.read_csv(file_path) # use the read_csv() method in pandas\n",
        "\n",
        "home_data.head()"
      ],
      "cell_type": "code",
      "metadata": {
        "colab": {
          "base_uri": "https://localhost:8080/",
          "height": 255
        },
        "id": "TWeCzdf6thkJ",
        "outputId": "1220e39a-6809-44f0-9376-e702194fcf95"
      },
      "execution_count": null,
      "outputs": [
        {
          "output_type": "execute_result",
          "data": {
            "text/plain": [
              "   Id  MSSubClass MSZoning  LotFrontage  LotArea Street Alley LotShape  \\\n",
              "0   1          60       RL         65.0     8450   Pave   NaN      Reg   \n",
              "1   2          20       RL         80.0     9600   Pave   NaN      Reg   \n",
              "2   3          60       RL         68.0    11250   Pave   NaN      IR1   \n",
              "3   4          70       RL         60.0     9550   Pave   NaN      IR1   \n",
              "4   5          60       RL         84.0    14260   Pave   NaN      IR1   \n",
              "\n",
              "  LandContour Utilities  ... PoolArea PoolQC Fence MiscFeature MiscVal MoSold  \\\n",
              "0         Lvl    AllPub  ...        0    NaN   NaN         NaN       0      2   \n",
              "1         Lvl    AllPub  ...        0    NaN   NaN         NaN       0      5   \n",
              "2         Lvl    AllPub  ...        0    NaN   NaN         NaN       0      9   \n",
              "3         Lvl    AllPub  ...        0    NaN   NaN         NaN       0      2   \n",
              "4         Lvl    AllPub  ...        0    NaN   NaN         NaN       0     12   \n",
              "\n",
              "  YrSold  SaleType  SaleCondition  SalePrice  \n",
              "0   2008        WD         Normal     208500  \n",
              "1   2007        WD         Normal     181500  \n",
              "2   2008        WD         Normal     223500  \n",
              "3   2006        WD        Abnorml     140000  \n",
              "4   2008        WD         Normal     250000  \n",
              "\n",
              "[5 rows x 81 columns]"
            ],
            "text/html": [
              "\n",
              "  <div id=\"df-3caf9de5-e800-4d08-9d8c-593c5d004a89\" class=\"colab-df-container\">\n",
              "    <div>\n",
              "<style scoped>\n",
              "    .dataframe tbody tr th:only-of-type {\n",
              "        vertical-align: middle;\n",
              "    }\n",
              "\n",
              "    .dataframe tbody tr th {\n",
              "        vertical-align: top;\n",
              "    }\n",
              "\n",
              "    .dataframe thead th {\n",
              "        text-align: right;\n",
              "    }\n",
              "</style>\n",
              "<table border=\"1\" class=\"dataframe\">\n",
              "  <thead>\n",
              "    <tr style=\"text-align: right;\">\n",
              "      <th></th>\n",
              "      <th>Id</th>\n",
              "      <th>MSSubClass</th>\n",
              "      <th>MSZoning</th>\n",
              "      <th>LotFrontage</th>\n",
              "      <th>LotArea</th>\n",
              "      <th>Street</th>\n",
              "      <th>Alley</th>\n",
              "      <th>LotShape</th>\n",
              "      <th>LandContour</th>\n",
              "      <th>Utilities</th>\n",
              "      <th>...</th>\n",
              "      <th>PoolArea</th>\n",
              "      <th>PoolQC</th>\n",
              "      <th>Fence</th>\n",
              "      <th>MiscFeature</th>\n",
              "      <th>MiscVal</th>\n",
              "      <th>MoSold</th>\n",
              "      <th>YrSold</th>\n",
              "      <th>SaleType</th>\n",
              "      <th>SaleCondition</th>\n",
              "      <th>SalePrice</th>\n",
              "    </tr>\n",
              "  </thead>\n",
              "  <tbody>\n",
              "    <tr>\n",
              "      <th>0</th>\n",
              "      <td>1</td>\n",
              "      <td>60</td>\n",
              "      <td>RL</td>\n",
              "      <td>65.0</td>\n",
              "      <td>8450</td>\n",
              "      <td>Pave</td>\n",
              "      <td>NaN</td>\n",
              "      <td>Reg</td>\n",
              "      <td>Lvl</td>\n",
              "      <td>AllPub</td>\n",
              "      <td>...</td>\n",
              "      <td>0</td>\n",
              "      <td>NaN</td>\n",
              "      <td>NaN</td>\n",
              "      <td>NaN</td>\n",
              "      <td>0</td>\n",
              "      <td>2</td>\n",
              "      <td>2008</td>\n",
              "      <td>WD</td>\n",
              "      <td>Normal</td>\n",
              "      <td>208500</td>\n",
              "    </tr>\n",
              "    <tr>\n",
              "      <th>1</th>\n",
              "      <td>2</td>\n",
              "      <td>20</td>\n",
              "      <td>RL</td>\n",
              "      <td>80.0</td>\n",
              "      <td>9600</td>\n",
              "      <td>Pave</td>\n",
              "      <td>NaN</td>\n",
              "      <td>Reg</td>\n",
              "      <td>Lvl</td>\n",
              "      <td>AllPub</td>\n",
              "      <td>...</td>\n",
              "      <td>0</td>\n",
              "      <td>NaN</td>\n",
              "      <td>NaN</td>\n",
              "      <td>NaN</td>\n",
              "      <td>0</td>\n",
              "      <td>5</td>\n",
              "      <td>2007</td>\n",
              "      <td>WD</td>\n",
              "      <td>Normal</td>\n",
              "      <td>181500</td>\n",
              "    </tr>\n",
              "    <tr>\n",
              "      <th>2</th>\n",
              "      <td>3</td>\n",
              "      <td>60</td>\n",
              "      <td>RL</td>\n",
              "      <td>68.0</td>\n",
              "      <td>11250</td>\n",
              "      <td>Pave</td>\n",
              "      <td>NaN</td>\n",
              "      <td>IR1</td>\n",
              "      <td>Lvl</td>\n",
              "      <td>AllPub</td>\n",
              "      <td>...</td>\n",
              "      <td>0</td>\n",
              "      <td>NaN</td>\n",
              "      <td>NaN</td>\n",
              "      <td>NaN</td>\n",
              "      <td>0</td>\n",
              "      <td>9</td>\n",
              "      <td>2008</td>\n",
              "      <td>WD</td>\n",
              "      <td>Normal</td>\n",
              "      <td>223500</td>\n",
              "    </tr>\n",
              "    <tr>\n",
              "      <th>3</th>\n",
              "      <td>4</td>\n",
              "      <td>70</td>\n",
              "      <td>RL</td>\n",
              "      <td>60.0</td>\n",
              "      <td>9550</td>\n",
              "      <td>Pave</td>\n",
              "      <td>NaN</td>\n",
              "      <td>IR1</td>\n",
              "      <td>Lvl</td>\n",
              "      <td>AllPub</td>\n",
              "      <td>...</td>\n",
              "      <td>0</td>\n",
              "      <td>NaN</td>\n",
              "      <td>NaN</td>\n",
              "      <td>NaN</td>\n",
              "      <td>0</td>\n",
              "      <td>2</td>\n",
              "      <td>2006</td>\n",
              "      <td>WD</td>\n",
              "      <td>Abnorml</td>\n",
              "      <td>140000</td>\n",
              "    </tr>\n",
              "    <tr>\n",
              "      <th>4</th>\n",
              "      <td>5</td>\n",
              "      <td>60</td>\n",
              "      <td>RL</td>\n",
              "      <td>84.0</td>\n",
              "      <td>14260</td>\n",
              "      <td>Pave</td>\n",
              "      <td>NaN</td>\n",
              "      <td>IR1</td>\n",
              "      <td>Lvl</td>\n",
              "      <td>AllPub</td>\n",
              "      <td>...</td>\n",
              "      <td>0</td>\n",
              "      <td>NaN</td>\n",
              "      <td>NaN</td>\n",
              "      <td>NaN</td>\n",
              "      <td>0</td>\n",
              "      <td>12</td>\n",
              "      <td>2008</td>\n",
              "      <td>WD</td>\n",
              "      <td>Normal</td>\n",
              "      <td>250000</td>\n",
              "    </tr>\n",
              "  </tbody>\n",
              "</table>\n",
              "<p>5 rows × 81 columns</p>\n",
              "</div>\n",
              "    <div class=\"colab-df-buttons\">\n",
              "\n",
              "  <div class=\"colab-df-container\">\n",
              "    <button class=\"colab-df-convert\" onclick=\"convertToInteractive('df-3caf9de5-e800-4d08-9d8c-593c5d004a89')\"\n",
              "            title=\"Convert this dataframe to an interactive table.\"\n",
              "            style=\"display:none;\">\n",
              "\n",
              "  <svg xmlns=\"http://www.w3.org/2000/svg\" height=\"24px\" viewBox=\"0 -960 960 960\">\n",
              "    <path d=\"M120-120v-720h720v720H120Zm60-500h600v-160H180v160Zm220 220h160v-160H400v160Zm0 220h160v-160H400v160ZM180-400h160v-160H180v160Zm440 0h160v-160H620v160ZM180-180h160v-160H180v160Zm440 0h160v-160H620v160Z\"/>\n",
              "  </svg>\n",
              "    </button>\n",
              "\n",
              "  <style>\n",
              "    .colab-df-container {\n",
              "      display:flex;\n",
              "      gap: 12px;\n",
              "    }\n",
              "\n",
              "    .colab-df-convert {\n",
              "      background-color: #E8F0FE;\n",
              "      border: none;\n",
              "      border-radius: 50%;\n",
              "      cursor: pointer;\n",
              "      display: none;\n",
              "      fill: #1967D2;\n",
              "      height: 32px;\n",
              "      padding: 0 0 0 0;\n",
              "      width: 32px;\n",
              "    }\n",
              "\n",
              "    .colab-df-convert:hover {\n",
              "      background-color: #E2EBFA;\n",
              "      box-shadow: 0px 1px 2px rgba(60, 64, 67, 0.3), 0px 1px 3px 1px rgba(60, 64, 67, 0.15);\n",
              "      fill: #174EA6;\n",
              "    }\n",
              "\n",
              "    .colab-df-buttons div {\n",
              "      margin-bottom: 4px;\n",
              "    }\n",
              "\n",
              "    [theme=dark] .colab-df-convert {\n",
              "      background-color: #3B4455;\n",
              "      fill: #D2E3FC;\n",
              "    }\n",
              "\n",
              "    [theme=dark] .colab-df-convert:hover {\n",
              "      background-color: #434B5C;\n",
              "      box-shadow: 0px 1px 3px 1px rgba(0, 0, 0, 0.15);\n",
              "      filter: drop-shadow(0px 1px 2px rgba(0, 0, 0, 0.3));\n",
              "      fill: #FFFFFF;\n",
              "    }\n",
              "  </style>\n",
              "\n",
              "    <script>\n",
              "      const buttonEl =\n",
              "        document.querySelector('#df-3caf9de5-e800-4d08-9d8c-593c5d004a89 button.colab-df-convert');\n",
              "      buttonEl.style.display =\n",
              "        google.colab.kernel.accessAllowed ? 'block' : 'none';\n",
              "\n",
              "      async function convertToInteractive(key) {\n",
              "        const element = document.querySelector('#df-3caf9de5-e800-4d08-9d8c-593c5d004a89');\n",
              "        const dataTable =\n",
              "          await google.colab.kernel.invokeFunction('convertToInteractive',\n",
              "                                                    [key], {});\n",
              "        if (!dataTable) return;\n",
              "\n",
              "        const docLinkHtml = 'Like what you see? Visit the ' +\n",
              "          '<a target=\"_blank\" href=https://colab.research.google.com/notebooks/data_table.ipynb>data table notebook</a>'\n",
              "          + ' to learn more about interactive tables.';\n",
              "        element.innerHTML = '';\n",
              "        dataTable['output_type'] = 'display_data';\n",
              "        await google.colab.output.renderOutput(dataTable, element);\n",
              "        const docLink = document.createElement('div');\n",
              "        docLink.innerHTML = docLinkHtml;\n",
              "        element.appendChild(docLink);\n",
              "      }\n",
              "    </script>\n",
              "  </div>\n",
              "\n",
              "\n",
              "<div id=\"df-6444cd2b-b1bd-4315-a375-37d39c3645cd\">\n",
              "  <button class=\"colab-df-quickchart\" onclick=\"quickchart('df-6444cd2b-b1bd-4315-a375-37d39c3645cd')\"\n",
              "            title=\"Suggest charts\"\n",
              "            style=\"display:none;\">\n",
              "\n",
              "<svg xmlns=\"http://www.w3.org/2000/svg\" height=\"24px\"viewBox=\"0 0 24 24\"\n",
              "     width=\"24px\">\n",
              "    <g>\n",
              "        <path d=\"M19 3H5c-1.1 0-2 .9-2 2v14c0 1.1.9 2 2 2h14c1.1 0 2-.9 2-2V5c0-1.1-.9-2-2-2zM9 17H7v-7h2v7zm4 0h-2V7h2v10zm4 0h-2v-4h2v4z\"/>\n",
              "    </g>\n",
              "</svg>\n",
              "  </button>\n",
              "\n",
              "<style>\n",
              "  .colab-df-quickchart {\n",
              "      --bg-color: #E8F0FE;\n",
              "      --fill-color: #1967D2;\n",
              "      --hover-bg-color: #E2EBFA;\n",
              "      --hover-fill-color: #174EA6;\n",
              "      --disabled-fill-color: #AAA;\n",
              "      --disabled-bg-color: #DDD;\n",
              "  }\n",
              "\n",
              "  [theme=dark] .colab-df-quickchart {\n",
              "      --bg-color: #3B4455;\n",
              "      --fill-color: #D2E3FC;\n",
              "      --hover-bg-color: #434B5C;\n",
              "      --hover-fill-color: #FFFFFF;\n",
              "      --disabled-bg-color: #3B4455;\n",
              "      --disabled-fill-color: #666;\n",
              "  }\n",
              "\n",
              "  .colab-df-quickchart {\n",
              "    background-color: var(--bg-color);\n",
              "    border: none;\n",
              "    border-radius: 50%;\n",
              "    cursor: pointer;\n",
              "    display: none;\n",
              "    fill: var(--fill-color);\n",
              "    height: 32px;\n",
              "    padding: 0;\n",
              "    width: 32px;\n",
              "  }\n",
              "\n",
              "  .colab-df-quickchart:hover {\n",
              "    background-color: var(--hover-bg-color);\n",
              "    box-shadow: 0 1px 2px rgba(60, 64, 67, 0.3), 0 1px 3px 1px rgba(60, 64, 67, 0.15);\n",
              "    fill: var(--button-hover-fill-color);\n",
              "  }\n",
              "\n",
              "  .colab-df-quickchart-complete:disabled,\n",
              "  .colab-df-quickchart-complete:disabled:hover {\n",
              "    background-color: var(--disabled-bg-color);\n",
              "    fill: var(--disabled-fill-color);\n",
              "    box-shadow: none;\n",
              "  }\n",
              "\n",
              "  .colab-df-spinner {\n",
              "    border: 2px solid var(--fill-color);\n",
              "    border-color: transparent;\n",
              "    border-bottom-color: var(--fill-color);\n",
              "    animation:\n",
              "      spin 1s steps(1) infinite;\n",
              "  }\n",
              "\n",
              "  @keyframes spin {\n",
              "    0% {\n",
              "      border-color: transparent;\n",
              "      border-bottom-color: var(--fill-color);\n",
              "      border-left-color: var(--fill-color);\n",
              "    }\n",
              "    20% {\n",
              "      border-color: transparent;\n",
              "      border-left-color: var(--fill-color);\n",
              "      border-top-color: var(--fill-color);\n",
              "    }\n",
              "    30% {\n",
              "      border-color: transparent;\n",
              "      border-left-color: var(--fill-color);\n",
              "      border-top-color: var(--fill-color);\n",
              "      border-right-color: var(--fill-color);\n",
              "    }\n",
              "    40% {\n",
              "      border-color: transparent;\n",
              "      border-right-color: var(--fill-color);\n",
              "      border-top-color: var(--fill-color);\n",
              "    }\n",
              "    60% {\n",
              "      border-color: transparent;\n",
              "      border-right-color: var(--fill-color);\n",
              "    }\n",
              "    80% {\n",
              "      border-color: transparent;\n",
              "      border-right-color: var(--fill-color);\n",
              "      border-bottom-color: var(--fill-color);\n",
              "    }\n",
              "    90% {\n",
              "      border-color: transparent;\n",
              "      border-bottom-color: var(--fill-color);\n",
              "    }\n",
              "  }\n",
              "</style>\n",
              "\n",
              "  <script>\n",
              "    async function quickchart(key) {\n",
              "      const quickchartButtonEl =\n",
              "        document.querySelector('#' + key + ' button');\n",
              "      quickchartButtonEl.disabled = true;  // To prevent multiple clicks.\n",
              "      quickchartButtonEl.classList.add('colab-df-spinner');\n",
              "      try {\n",
              "        const charts = await google.colab.kernel.invokeFunction(\n",
              "            'suggestCharts', [key], {});\n",
              "      } catch (error) {\n",
              "        console.error('Error during call to suggestCharts:', error);\n",
              "      }\n",
              "      quickchartButtonEl.classList.remove('colab-df-spinner');\n",
              "      quickchartButtonEl.classList.add('colab-df-quickchart-complete');\n",
              "    }\n",
              "    (() => {\n",
              "      let quickchartButtonEl =\n",
              "        document.querySelector('#df-6444cd2b-b1bd-4315-a375-37d39c3645cd button');\n",
              "      quickchartButtonEl.style.display =\n",
              "        google.colab.kernel.accessAllowed ? 'block' : 'none';\n",
              "    })();\n",
              "  </script>\n",
              "</div>\n",
              "\n",
              "    </div>\n",
              "  </div>\n"
            ],
            "application/vnd.google.colaboratory.intrinsic+json": {
              "type": "dataframe",
              "variable_name": "home_data"
            }
          },
          "metadata": {},
          "execution_count": 15
        }
      ]
    },
    {
      "cell_type": "markdown",
      "source": [
        "#**Step 2: Review The Data**"
      ],
      "metadata": {
        "id": "qwAQfpreuTEy"
      }
    },
    {
      "cell_type": "code",
      "source": [
        "# Print summary statistics in next line\n",
        "home_data.describe()"
      ],
      "metadata": {
        "colab": {
          "base_uri": "https://localhost:8080/",
          "height": 349
        },
        "id": "nOgZiA6YrF8O",
        "outputId": "9258c506-9787-4cf2-dd48-1434a1ee2366"
      },
      "execution_count": null,
      "outputs": [
        {
          "output_type": "execute_result",
          "data": {
            "text/plain": [
              "                Id   MSSubClass  LotFrontage        LotArea  OverallQual  \\\n",
              "count  1460.000000  1460.000000  1201.000000    1460.000000  1460.000000   \n",
              "mean    730.500000    56.897260    70.049958   10516.828082     6.099315   \n",
              "std     421.610009    42.300571    24.284752    9981.264932     1.382997   \n",
              "min       1.000000    20.000000    21.000000    1300.000000     1.000000   \n",
              "25%     365.750000    20.000000    59.000000    7553.500000     5.000000   \n",
              "50%     730.500000    50.000000    69.000000    9478.500000     6.000000   \n",
              "75%    1095.250000    70.000000    80.000000   11601.500000     7.000000   \n",
              "max    1460.000000   190.000000   313.000000  215245.000000    10.000000   \n",
              "\n",
              "       OverallCond    YearBuilt  YearRemodAdd   MasVnrArea   BsmtFinSF1  ...  \\\n",
              "count  1460.000000  1460.000000   1460.000000  1452.000000  1460.000000  ...   \n",
              "mean      5.575342  1971.267808   1984.865753   103.685262   443.639726  ...   \n",
              "std       1.112799    30.202904     20.645407   181.066207   456.098091  ...   \n",
              "min       1.000000  1872.000000   1950.000000     0.000000     0.000000  ...   \n",
              "25%       5.000000  1954.000000   1967.000000     0.000000     0.000000  ...   \n",
              "50%       5.000000  1973.000000   1994.000000     0.000000   383.500000  ...   \n",
              "75%       6.000000  2000.000000   2004.000000   166.000000   712.250000  ...   \n",
              "max       9.000000  2010.000000   2010.000000  1600.000000  5644.000000  ...   \n",
              "\n",
              "        WoodDeckSF  OpenPorchSF  EnclosedPorch    3SsnPorch  ScreenPorch  \\\n",
              "count  1460.000000  1460.000000    1460.000000  1460.000000  1460.000000   \n",
              "mean     94.244521    46.660274      21.954110     3.409589    15.060959   \n",
              "std     125.338794    66.256028      61.119149    29.317331    55.757415   \n",
              "min       0.000000     0.000000       0.000000     0.000000     0.000000   \n",
              "25%       0.000000     0.000000       0.000000     0.000000     0.000000   \n",
              "50%       0.000000    25.000000       0.000000     0.000000     0.000000   \n",
              "75%     168.000000    68.000000       0.000000     0.000000     0.000000   \n",
              "max     857.000000   547.000000     552.000000   508.000000   480.000000   \n",
              "\n",
              "          PoolArea       MiscVal       MoSold       YrSold      SalePrice  \n",
              "count  1460.000000   1460.000000  1460.000000  1460.000000    1460.000000  \n",
              "mean      2.758904     43.489041     6.321918  2007.815753  180921.195890  \n",
              "std      40.177307    496.123024     2.703626     1.328095   79442.502883  \n",
              "min       0.000000      0.000000     1.000000  2006.000000   34900.000000  \n",
              "25%       0.000000      0.000000     5.000000  2007.000000  129975.000000  \n",
              "50%       0.000000      0.000000     6.000000  2008.000000  163000.000000  \n",
              "75%       0.000000      0.000000     8.000000  2009.000000  214000.000000  \n",
              "max     738.000000  15500.000000    12.000000  2010.000000  755000.000000  \n",
              "\n",
              "[8 rows x 38 columns]"
            ],
            "text/html": [
              "\n",
              "  <div id=\"df-e189dfa2-e0b6-4769-9229-7d2fc77a1802\" class=\"colab-df-container\">\n",
              "    <div>\n",
              "<style scoped>\n",
              "    .dataframe tbody tr th:only-of-type {\n",
              "        vertical-align: middle;\n",
              "    }\n",
              "\n",
              "    .dataframe tbody tr th {\n",
              "        vertical-align: top;\n",
              "    }\n",
              "\n",
              "    .dataframe thead th {\n",
              "        text-align: right;\n",
              "    }\n",
              "</style>\n",
              "<table border=\"1\" class=\"dataframe\">\n",
              "  <thead>\n",
              "    <tr style=\"text-align: right;\">\n",
              "      <th></th>\n",
              "      <th>Id</th>\n",
              "      <th>MSSubClass</th>\n",
              "      <th>LotFrontage</th>\n",
              "      <th>LotArea</th>\n",
              "      <th>OverallQual</th>\n",
              "      <th>OverallCond</th>\n",
              "      <th>YearBuilt</th>\n",
              "      <th>YearRemodAdd</th>\n",
              "      <th>MasVnrArea</th>\n",
              "      <th>BsmtFinSF1</th>\n",
              "      <th>...</th>\n",
              "      <th>WoodDeckSF</th>\n",
              "      <th>OpenPorchSF</th>\n",
              "      <th>EnclosedPorch</th>\n",
              "      <th>3SsnPorch</th>\n",
              "      <th>ScreenPorch</th>\n",
              "      <th>PoolArea</th>\n",
              "      <th>MiscVal</th>\n",
              "      <th>MoSold</th>\n",
              "      <th>YrSold</th>\n",
              "      <th>SalePrice</th>\n",
              "    </tr>\n",
              "  </thead>\n",
              "  <tbody>\n",
              "    <tr>\n",
              "      <th>count</th>\n",
              "      <td>1460.000000</td>\n",
              "      <td>1460.000000</td>\n",
              "      <td>1201.000000</td>\n",
              "      <td>1460.000000</td>\n",
              "      <td>1460.000000</td>\n",
              "      <td>1460.000000</td>\n",
              "      <td>1460.000000</td>\n",
              "      <td>1460.000000</td>\n",
              "      <td>1452.000000</td>\n",
              "      <td>1460.000000</td>\n",
              "      <td>...</td>\n",
              "      <td>1460.000000</td>\n",
              "      <td>1460.000000</td>\n",
              "      <td>1460.000000</td>\n",
              "      <td>1460.000000</td>\n",
              "      <td>1460.000000</td>\n",
              "      <td>1460.000000</td>\n",
              "      <td>1460.000000</td>\n",
              "      <td>1460.000000</td>\n",
              "      <td>1460.000000</td>\n",
              "      <td>1460.000000</td>\n",
              "    </tr>\n",
              "    <tr>\n",
              "      <th>mean</th>\n",
              "      <td>730.500000</td>\n",
              "      <td>56.897260</td>\n",
              "      <td>70.049958</td>\n",
              "      <td>10516.828082</td>\n",
              "      <td>6.099315</td>\n",
              "      <td>5.575342</td>\n",
              "      <td>1971.267808</td>\n",
              "      <td>1984.865753</td>\n",
              "      <td>103.685262</td>\n",
              "      <td>443.639726</td>\n",
              "      <td>...</td>\n",
              "      <td>94.244521</td>\n",
              "      <td>46.660274</td>\n",
              "      <td>21.954110</td>\n",
              "      <td>3.409589</td>\n",
              "      <td>15.060959</td>\n",
              "      <td>2.758904</td>\n",
              "      <td>43.489041</td>\n",
              "      <td>6.321918</td>\n",
              "      <td>2007.815753</td>\n",
              "      <td>180921.195890</td>\n",
              "    </tr>\n",
              "    <tr>\n",
              "      <th>std</th>\n",
              "      <td>421.610009</td>\n",
              "      <td>42.300571</td>\n",
              "      <td>24.284752</td>\n",
              "      <td>9981.264932</td>\n",
              "      <td>1.382997</td>\n",
              "      <td>1.112799</td>\n",
              "      <td>30.202904</td>\n",
              "      <td>20.645407</td>\n",
              "      <td>181.066207</td>\n",
              "      <td>456.098091</td>\n",
              "      <td>...</td>\n",
              "      <td>125.338794</td>\n",
              "      <td>66.256028</td>\n",
              "      <td>61.119149</td>\n",
              "      <td>29.317331</td>\n",
              "      <td>55.757415</td>\n",
              "      <td>40.177307</td>\n",
              "      <td>496.123024</td>\n",
              "      <td>2.703626</td>\n",
              "      <td>1.328095</td>\n",
              "      <td>79442.502883</td>\n",
              "    </tr>\n",
              "    <tr>\n",
              "      <th>min</th>\n",
              "      <td>1.000000</td>\n",
              "      <td>20.000000</td>\n",
              "      <td>21.000000</td>\n",
              "      <td>1300.000000</td>\n",
              "      <td>1.000000</td>\n",
              "      <td>1.000000</td>\n",
              "      <td>1872.000000</td>\n",
              "      <td>1950.000000</td>\n",
              "      <td>0.000000</td>\n",
              "      <td>0.000000</td>\n",
              "      <td>...</td>\n",
              "      <td>0.000000</td>\n",
              "      <td>0.000000</td>\n",
              "      <td>0.000000</td>\n",
              "      <td>0.000000</td>\n",
              "      <td>0.000000</td>\n",
              "      <td>0.000000</td>\n",
              "      <td>0.000000</td>\n",
              "      <td>1.000000</td>\n",
              "      <td>2006.000000</td>\n",
              "      <td>34900.000000</td>\n",
              "    </tr>\n",
              "    <tr>\n",
              "      <th>25%</th>\n",
              "      <td>365.750000</td>\n",
              "      <td>20.000000</td>\n",
              "      <td>59.000000</td>\n",
              "      <td>7553.500000</td>\n",
              "      <td>5.000000</td>\n",
              "      <td>5.000000</td>\n",
              "      <td>1954.000000</td>\n",
              "      <td>1967.000000</td>\n",
              "      <td>0.000000</td>\n",
              "      <td>0.000000</td>\n",
              "      <td>...</td>\n",
              "      <td>0.000000</td>\n",
              "      <td>0.000000</td>\n",
              "      <td>0.000000</td>\n",
              "      <td>0.000000</td>\n",
              "      <td>0.000000</td>\n",
              "      <td>0.000000</td>\n",
              "      <td>0.000000</td>\n",
              "      <td>5.000000</td>\n",
              "      <td>2007.000000</td>\n",
              "      <td>129975.000000</td>\n",
              "    </tr>\n",
              "    <tr>\n",
              "      <th>50%</th>\n",
              "      <td>730.500000</td>\n",
              "      <td>50.000000</td>\n",
              "      <td>69.000000</td>\n",
              "      <td>9478.500000</td>\n",
              "      <td>6.000000</td>\n",
              "      <td>5.000000</td>\n",
              "      <td>1973.000000</td>\n",
              "      <td>1994.000000</td>\n",
              "      <td>0.000000</td>\n",
              "      <td>383.500000</td>\n",
              "      <td>...</td>\n",
              "      <td>0.000000</td>\n",
              "      <td>25.000000</td>\n",
              "      <td>0.000000</td>\n",
              "      <td>0.000000</td>\n",
              "      <td>0.000000</td>\n",
              "      <td>0.000000</td>\n",
              "      <td>0.000000</td>\n",
              "      <td>6.000000</td>\n",
              "      <td>2008.000000</td>\n",
              "      <td>163000.000000</td>\n",
              "    </tr>\n",
              "    <tr>\n",
              "      <th>75%</th>\n",
              "      <td>1095.250000</td>\n",
              "      <td>70.000000</td>\n",
              "      <td>80.000000</td>\n",
              "      <td>11601.500000</td>\n",
              "      <td>7.000000</td>\n",
              "      <td>6.000000</td>\n",
              "      <td>2000.000000</td>\n",
              "      <td>2004.000000</td>\n",
              "      <td>166.000000</td>\n",
              "      <td>712.250000</td>\n",
              "      <td>...</td>\n",
              "      <td>168.000000</td>\n",
              "      <td>68.000000</td>\n",
              "      <td>0.000000</td>\n",
              "      <td>0.000000</td>\n",
              "      <td>0.000000</td>\n",
              "      <td>0.000000</td>\n",
              "      <td>0.000000</td>\n",
              "      <td>8.000000</td>\n",
              "      <td>2009.000000</td>\n",
              "      <td>214000.000000</td>\n",
              "    </tr>\n",
              "    <tr>\n",
              "      <th>max</th>\n",
              "      <td>1460.000000</td>\n",
              "      <td>190.000000</td>\n",
              "      <td>313.000000</td>\n",
              "      <td>215245.000000</td>\n",
              "      <td>10.000000</td>\n",
              "      <td>9.000000</td>\n",
              "      <td>2010.000000</td>\n",
              "      <td>2010.000000</td>\n",
              "      <td>1600.000000</td>\n",
              "      <td>5644.000000</td>\n",
              "      <td>...</td>\n",
              "      <td>857.000000</td>\n",
              "      <td>547.000000</td>\n",
              "      <td>552.000000</td>\n",
              "      <td>508.000000</td>\n",
              "      <td>480.000000</td>\n",
              "      <td>738.000000</td>\n",
              "      <td>15500.000000</td>\n",
              "      <td>12.000000</td>\n",
              "      <td>2010.000000</td>\n",
              "      <td>755000.000000</td>\n",
              "    </tr>\n",
              "  </tbody>\n",
              "</table>\n",
              "<p>8 rows × 38 columns</p>\n",
              "</div>\n",
              "    <div class=\"colab-df-buttons\">\n",
              "\n",
              "  <div class=\"colab-df-container\">\n",
              "    <button class=\"colab-df-convert\" onclick=\"convertToInteractive('df-e189dfa2-e0b6-4769-9229-7d2fc77a1802')\"\n",
              "            title=\"Convert this dataframe to an interactive table.\"\n",
              "            style=\"display:none;\">\n",
              "\n",
              "  <svg xmlns=\"http://www.w3.org/2000/svg\" height=\"24px\" viewBox=\"0 -960 960 960\">\n",
              "    <path d=\"M120-120v-720h720v720H120Zm60-500h600v-160H180v160Zm220 220h160v-160H400v160Zm0 220h160v-160H400v160ZM180-400h160v-160H180v160Zm440 0h160v-160H620v160ZM180-180h160v-160H180v160Zm440 0h160v-160H620v160Z\"/>\n",
              "  </svg>\n",
              "    </button>\n",
              "\n",
              "  <style>\n",
              "    .colab-df-container {\n",
              "      display:flex;\n",
              "      gap: 12px;\n",
              "    }\n",
              "\n",
              "    .colab-df-convert {\n",
              "      background-color: #E8F0FE;\n",
              "      border: none;\n",
              "      border-radius: 50%;\n",
              "      cursor: pointer;\n",
              "      display: none;\n",
              "      fill: #1967D2;\n",
              "      height: 32px;\n",
              "      padding: 0 0 0 0;\n",
              "      width: 32px;\n",
              "    }\n",
              "\n",
              "    .colab-df-convert:hover {\n",
              "      background-color: #E2EBFA;\n",
              "      box-shadow: 0px 1px 2px rgba(60, 64, 67, 0.3), 0px 1px 3px 1px rgba(60, 64, 67, 0.15);\n",
              "      fill: #174EA6;\n",
              "    }\n",
              "\n",
              "    .colab-df-buttons div {\n",
              "      margin-bottom: 4px;\n",
              "    }\n",
              "\n",
              "    [theme=dark] .colab-df-convert {\n",
              "      background-color: #3B4455;\n",
              "      fill: #D2E3FC;\n",
              "    }\n",
              "\n",
              "    [theme=dark] .colab-df-convert:hover {\n",
              "      background-color: #434B5C;\n",
              "      box-shadow: 0px 1px 3px 1px rgba(0, 0, 0, 0.15);\n",
              "      filter: drop-shadow(0px 1px 2px rgba(0, 0, 0, 0.3));\n",
              "      fill: #FFFFFF;\n",
              "    }\n",
              "  </style>\n",
              "\n",
              "    <script>\n",
              "      const buttonEl =\n",
              "        document.querySelector('#df-e189dfa2-e0b6-4769-9229-7d2fc77a1802 button.colab-df-convert');\n",
              "      buttonEl.style.display =\n",
              "        google.colab.kernel.accessAllowed ? 'block' : 'none';\n",
              "\n",
              "      async function convertToInteractive(key) {\n",
              "        const element = document.querySelector('#df-e189dfa2-e0b6-4769-9229-7d2fc77a1802');\n",
              "        const dataTable =\n",
              "          await google.colab.kernel.invokeFunction('convertToInteractive',\n",
              "                                                    [key], {});\n",
              "        if (!dataTable) return;\n",
              "\n",
              "        const docLinkHtml = 'Like what you see? Visit the ' +\n",
              "          '<a target=\"_blank\" href=https://colab.research.google.com/notebooks/data_table.ipynb>data table notebook</a>'\n",
              "          + ' to learn more about interactive tables.';\n",
              "        element.innerHTML = '';\n",
              "        dataTable['output_type'] = 'display_data';\n",
              "        await google.colab.output.renderOutput(dataTable, element);\n",
              "        const docLink = document.createElement('div');\n",
              "        docLink.innerHTML = docLinkHtml;\n",
              "        element.appendChild(docLink);\n",
              "      }\n",
              "    </script>\n",
              "  </div>\n",
              "\n",
              "\n",
              "<div id=\"df-29f9be2c-2397-4f29-9ee5-14a3510c028b\">\n",
              "  <button class=\"colab-df-quickchart\" onclick=\"quickchart('df-29f9be2c-2397-4f29-9ee5-14a3510c028b')\"\n",
              "            title=\"Suggest charts\"\n",
              "            style=\"display:none;\">\n",
              "\n",
              "<svg xmlns=\"http://www.w3.org/2000/svg\" height=\"24px\"viewBox=\"0 0 24 24\"\n",
              "     width=\"24px\">\n",
              "    <g>\n",
              "        <path d=\"M19 3H5c-1.1 0-2 .9-2 2v14c0 1.1.9 2 2 2h14c1.1 0 2-.9 2-2V5c0-1.1-.9-2-2-2zM9 17H7v-7h2v7zm4 0h-2V7h2v10zm4 0h-2v-4h2v4z\"/>\n",
              "    </g>\n",
              "</svg>\n",
              "  </button>\n",
              "\n",
              "<style>\n",
              "  .colab-df-quickchart {\n",
              "      --bg-color: #E8F0FE;\n",
              "      --fill-color: #1967D2;\n",
              "      --hover-bg-color: #E2EBFA;\n",
              "      --hover-fill-color: #174EA6;\n",
              "      --disabled-fill-color: #AAA;\n",
              "      --disabled-bg-color: #DDD;\n",
              "  }\n",
              "\n",
              "  [theme=dark] .colab-df-quickchart {\n",
              "      --bg-color: #3B4455;\n",
              "      --fill-color: #D2E3FC;\n",
              "      --hover-bg-color: #434B5C;\n",
              "      --hover-fill-color: #FFFFFF;\n",
              "      --disabled-bg-color: #3B4455;\n",
              "      --disabled-fill-color: #666;\n",
              "  }\n",
              "\n",
              "  .colab-df-quickchart {\n",
              "    background-color: var(--bg-color);\n",
              "    border: none;\n",
              "    border-radius: 50%;\n",
              "    cursor: pointer;\n",
              "    display: none;\n",
              "    fill: var(--fill-color);\n",
              "    height: 32px;\n",
              "    padding: 0;\n",
              "    width: 32px;\n",
              "  }\n",
              "\n",
              "  .colab-df-quickchart:hover {\n",
              "    background-color: var(--hover-bg-color);\n",
              "    box-shadow: 0 1px 2px rgba(60, 64, 67, 0.3), 0 1px 3px 1px rgba(60, 64, 67, 0.15);\n",
              "    fill: var(--button-hover-fill-color);\n",
              "  }\n",
              "\n",
              "  .colab-df-quickchart-complete:disabled,\n",
              "  .colab-df-quickchart-complete:disabled:hover {\n",
              "    background-color: var(--disabled-bg-color);\n",
              "    fill: var(--disabled-fill-color);\n",
              "    box-shadow: none;\n",
              "  }\n",
              "\n",
              "  .colab-df-spinner {\n",
              "    border: 2px solid var(--fill-color);\n",
              "    border-color: transparent;\n",
              "    border-bottom-color: var(--fill-color);\n",
              "    animation:\n",
              "      spin 1s steps(1) infinite;\n",
              "  }\n",
              "\n",
              "  @keyframes spin {\n",
              "    0% {\n",
              "      border-color: transparent;\n",
              "      border-bottom-color: var(--fill-color);\n",
              "      border-left-color: var(--fill-color);\n",
              "    }\n",
              "    20% {\n",
              "      border-color: transparent;\n",
              "      border-left-color: var(--fill-color);\n",
              "      border-top-color: var(--fill-color);\n",
              "    }\n",
              "    30% {\n",
              "      border-color: transparent;\n",
              "      border-left-color: var(--fill-color);\n",
              "      border-top-color: var(--fill-color);\n",
              "      border-right-color: var(--fill-color);\n",
              "    }\n",
              "    40% {\n",
              "      border-color: transparent;\n",
              "      border-right-color: var(--fill-color);\n",
              "      border-top-color: var(--fill-color);\n",
              "    }\n",
              "    60% {\n",
              "      border-color: transparent;\n",
              "      border-right-color: var(--fill-color);\n",
              "    }\n",
              "    80% {\n",
              "      border-color: transparent;\n",
              "      border-right-color: var(--fill-color);\n",
              "      border-bottom-color: var(--fill-color);\n",
              "    }\n",
              "    90% {\n",
              "      border-color: transparent;\n",
              "      border-bottom-color: var(--fill-color);\n",
              "    }\n",
              "  }\n",
              "</style>\n",
              "\n",
              "  <script>\n",
              "    async function quickchart(key) {\n",
              "      const quickchartButtonEl =\n",
              "        document.querySelector('#' + key + ' button');\n",
              "      quickchartButtonEl.disabled = true;  // To prevent multiple clicks.\n",
              "      quickchartButtonEl.classList.add('colab-df-spinner');\n",
              "      try {\n",
              "        const charts = await google.colab.kernel.invokeFunction(\n",
              "            'suggestCharts', [key], {});\n",
              "      } catch (error) {\n",
              "        console.error('Error during call to suggestCharts:', error);\n",
              "      }\n",
              "      quickchartButtonEl.classList.remove('colab-df-spinner');\n",
              "      quickchartButtonEl.classList.add('colab-df-quickchart-complete');\n",
              "    }\n",
              "    (() => {\n",
              "      let quickchartButtonEl =\n",
              "        document.querySelector('#df-29f9be2c-2397-4f29-9ee5-14a3510c028b button');\n",
              "      quickchartButtonEl.style.display =\n",
              "        google.colab.kernel.accessAllowed ? 'block' : 'none';\n",
              "    })();\n",
              "  </script>\n",
              "</div>\n",
              "\n",
              "    </div>\n",
              "  </div>\n"
            ],
            "application/vnd.google.colaboratory.intrinsic+json": {
              "type": "dataframe"
            }
          },
          "metadata": {},
          "execution_count": 17
        }
      ]
    },
    {
      "cell_type": "code",
      "source": [
        "# What is the average lot size (rounded to nearest integer)?\n",
        "avg_lot_size = 10517\n",
        "\n",
        "# As of today, how old is the newest home (current year - the date in which it was built)\n",
        "newest_home_age = 11\n",
        "\n",
        "# check your answers\n",
        "print(avg_lot_size)\n",
        "print(newest_home_age)\n"
      ],
      "metadata": {
        "colab": {
          "base_uri": "https://localhost:8080/"
        },
        "id": "BOBuolfxugpB",
        "outputId": "0799a141-bbea-4fee-d86c-65453b71136d"
      },
      "execution_count": 34,
      "outputs": [
        {
          "output_type": "stream",
          "name": "stdout",
          "text": [
            "10517\n",
            "11\n"
          ]
        }
      ]
    },
    {
      "cell_type": "markdown",
      "source": [
        "#**Exercises**\n",
        "\n",
        "#**Step 1: Specify Prediction Target**"
      ],
      "metadata": {
        "id": "PkGBxesC1bl3"
      }
    },
    {
      "cell_type": "code",
      "source": [
        "# print the list of columns in the dataset to find the name of the prediction target\n",
        "\n",
        "home_data.columns"
      ],
      "metadata": {
        "colab": {
          "base_uri": "https://localhost:8080/"
        },
        "id": "VjR2jbs-vzA9",
        "outputId": "1f2a7933-af1a-4a46-ba97-d21ecad32340"
      },
      "execution_count": null,
      "outputs": [
        {
          "output_type": "execute_result",
          "data": {
            "text/plain": [
              "Index(['Id', 'MSSubClass', 'MSZoning', 'LotFrontage', 'LotArea', 'Street',\n",
              "       'Alley', 'LotShape', 'LandContour', 'Utilities', 'LotConfig',\n",
              "       'LandSlope', 'Neighborhood', 'Condition1', 'Condition2', 'BldgType',\n",
              "       'HouseStyle', 'OverallQual', 'OverallCond', 'YearBuilt', 'YearRemodAdd',\n",
              "       'RoofStyle', 'RoofMatl', 'Exterior1st', 'Exterior2nd', 'MasVnrType',\n",
              "       'MasVnrArea', 'ExterQual', 'ExterCond', 'Foundation', 'BsmtQual',\n",
              "       'BsmtCond', 'BsmtExposure', 'BsmtFinType1', 'BsmtFinSF1',\n",
              "       'BsmtFinType2', 'BsmtFinSF2', 'BsmtUnfSF', 'TotalBsmtSF', 'Heating',\n",
              "       'HeatingQC', 'CentralAir', 'Electrical', '1stFlrSF', '2ndFlrSF',\n",
              "       'LowQualFinSF', 'GrLivArea', 'BsmtFullBath', 'BsmtHalfBath', 'FullBath',\n",
              "       'HalfBath', 'BedroomAbvGr', 'KitchenAbvGr', 'KitchenQual',\n",
              "       'TotRmsAbvGrd', 'Functional', 'Fireplaces', 'FireplaceQu', 'GarageType',\n",
              "       'GarageYrBlt', 'GarageFinish', 'GarageCars', 'GarageArea', 'GarageQual',\n",
              "       'GarageCond', 'PavedDrive', 'WoodDeckSF', 'OpenPorchSF',\n",
              "       'EnclosedPorch', '3SsnPorch', 'ScreenPorch', 'PoolArea', 'PoolQC',\n",
              "       'Fence', 'MiscFeature', 'MiscVal', 'MoSold', 'YrSold', 'SaleType',\n",
              "       'SaleCondition', 'SalePrice'],\n",
              "      dtype='object')"
            ]
          },
          "metadata": {},
          "execution_count": 20
        }
      ]
    },
    {
      "cell_type": "code",
      "source": [
        "y = home_data.SalePrice\n",
        "\n",
        "# Check your answer\n",
        "print(y)"
      ],
      "metadata": {
        "colab": {
          "base_uri": "https://localhost:8080/"
        },
        "id": "1iBNaPzbwsI9",
        "outputId": "44457743-761e-4301-851d-12d7dd495b6d"
      },
      "execution_count": 35,
      "outputs": [
        {
          "output_type": "stream",
          "name": "stdout",
          "text": [
            "0       208500\n",
            "1       181500\n",
            "2       223500\n",
            "3       140000\n",
            "4       250000\n",
            "         ...  \n",
            "1455    175000\n",
            "1456    210000\n",
            "1457    266500\n",
            "1458    142125\n",
            "1459    147500\n",
            "Name: SalePrice, Length: 1460, dtype: int64\n"
          ]
        }
      ]
    },
    {
      "cell_type": "markdown",
      "source": [
        "#**Step 2: Create X**"
      ],
      "metadata": {
        "id": "e0O7hfxc1rdy"
      }
    },
    {
      "cell_type": "code",
      "source": [
        "# Create the list of features below\n",
        "feature_names = ['LotArea','YearBuilt','1stFlrSF','2ndFlrSF','FullBath','BedroomAbvGr','TotRmsAbvGrd']\n",
        "\n",
        "# Select data corresponding to features in feature_names\n",
        "X = home_data[feature_names]\n",
        "\n",
        "# Check your answer\n",
        "print(X)"
      ],
      "metadata": {
        "id": "7bFRMonCxImg",
        "colab": {
          "base_uri": "https://localhost:8080/"
        },
        "outputId": "50b2693a-6d08-40cc-d734-8529c466d336"
      },
      "execution_count": 36,
      "outputs": [
        {
          "output_type": "stream",
          "name": "stdout",
          "text": [
            "      LotArea  YearBuilt  1stFlrSF  2ndFlrSF  FullBath  BedroomAbvGr  \\\n",
            "0        8450       2003       856       854         2             3   \n",
            "1        9600       1976      1262         0         2             3   \n",
            "2       11250       2001       920       866         2             3   \n",
            "3        9550       1915       961       756         1             3   \n",
            "4       14260       2000      1145      1053         2             4   \n",
            "...       ...        ...       ...       ...       ...           ...   \n",
            "1455     7917       1999       953       694         2             3   \n",
            "1456    13175       1978      2073         0         2             3   \n",
            "1457     9042       1941      1188      1152         2             4   \n",
            "1458     9717       1950      1078         0         1             2   \n",
            "1459     9937       1965      1256         0         1             3   \n",
            "\n",
            "      TotRmsAbvGrd  \n",
            "0                8  \n",
            "1                6  \n",
            "2                6  \n",
            "3                7  \n",
            "4                9  \n",
            "...            ...  \n",
            "1455             7  \n",
            "1456             7  \n",
            "1457             9  \n",
            "1458             5  \n",
            "1459             6  \n",
            "\n",
            "[1460 rows x 7 columns]\n"
          ]
        }
      ]
    },
    {
      "cell_type": "markdown",
      "source": [
        "#**Review Data**"
      ],
      "metadata": {
        "id": "wWz9yxjD2Eo7"
      }
    },
    {
      "cell_type": "code",
      "source": [
        "# Review data\n",
        "# print description or statistics from X\n",
        "print(X.describe())\n",
        "\n",
        "# print the top few lines\n",
        "print(X.head())"
      ],
      "metadata": {
        "colab": {
          "base_uri": "https://localhost:8080/"
        },
        "id": "tIQUFAYl1-Dq",
        "outputId": "c045a266-46ef-4a72-bc97-37385e35d574"
      },
      "execution_count": 37,
      "outputs": [
        {
          "output_type": "stream",
          "name": "stdout",
          "text": [
            "             LotArea    YearBuilt     1stFlrSF     2ndFlrSF     FullBath  \\\n",
            "count    1460.000000  1460.000000  1460.000000  1460.000000  1460.000000   \n",
            "mean    10516.828082  1971.267808  1162.626712   346.992466     1.565068   \n",
            "std      9981.264932    30.202904   386.587738   436.528436     0.550916   \n",
            "min      1300.000000  1872.000000   334.000000     0.000000     0.000000   \n",
            "25%      7553.500000  1954.000000   882.000000     0.000000     1.000000   \n",
            "50%      9478.500000  1973.000000  1087.000000     0.000000     2.000000   \n",
            "75%     11601.500000  2000.000000  1391.250000   728.000000     2.000000   \n",
            "max    215245.000000  2010.000000  4692.000000  2065.000000     3.000000   \n",
            "\n",
            "       BedroomAbvGr  TotRmsAbvGrd  \n",
            "count   1460.000000   1460.000000  \n",
            "mean       2.866438      6.517808  \n",
            "std        0.815778      1.625393  \n",
            "min        0.000000      2.000000  \n",
            "25%        2.000000      5.000000  \n",
            "50%        3.000000      6.000000  \n",
            "75%        3.000000      7.000000  \n",
            "max        8.000000     14.000000  \n",
            "   LotArea  YearBuilt  1stFlrSF  2ndFlrSF  FullBath  BedroomAbvGr  \\\n",
            "0     8450       2003       856       854         2             3   \n",
            "1     9600       1976      1262         0         2             3   \n",
            "2    11250       2001       920       866         2             3   \n",
            "3     9550       1915       961       756         1             3   \n",
            "4    14260       2000      1145      1053         2             4   \n",
            "\n",
            "   TotRmsAbvGrd  \n",
            "0             8  \n",
            "1             6  \n",
            "2             6  \n",
            "3             7  \n",
            "4             9  \n"
          ]
        }
      ]
    },
    {
      "cell_type": "markdown",
      "source": [
        "#**Step 3: Specify and Fit Model**"
      ],
      "metadata": {
        "id": "mHtnen3f2UZX"
      }
    },
    {
      "cell_type": "code",
      "source": [
        "\n",
        "from sklearn.tree import DecisionTreeRegressor\n",
        "#specify the model.\n",
        "#For model reproducibility, set a numeric value for random_state when specifying the model\n",
        "iowa_model = DecisionTreeRegressor(random_state=1)\n",
        "\n",
        "# Fit the model\n",
        "iowa_model.fit(X,y)\n",
        "\n",
        "# Check your answer\n",
        "print(iowa_model)"
      ],
      "metadata": {
        "colab": {
          "base_uri": "https://localhost:8080/"
        },
        "id": "pctjWj9B2Mwx",
        "outputId": "7c4bb4d4-5c2f-4ce0-a1ed-7efa80286a8c"
      },
      "execution_count": 38,
      "outputs": [
        {
          "output_type": "stream",
          "name": "stdout",
          "text": [
            "DecisionTreeRegressor(random_state=1)\n"
          ]
        }
      ]
    },
    {
      "cell_type": "markdown",
      "source": [
        "#**Step 4: Make Predictions**"
      ],
      "metadata": {
        "id": "keEUaZeN3Euc"
      }
    },
    {
      "cell_type": "code",
      "source": [
        "# predictions\n",
        "predictions = iowa_model.predict(X)\n",
        "\n",
        "# Check your answer\n",
        "print(predictions)"
      ],
      "metadata": {
        "colab": {
          "base_uri": "https://localhost:8080/"
        },
        "id": "lxvdo3JO28q5",
        "outputId": "aafdd9f7-3ff1-4245-cc3c-cd201d1854d8"
      },
      "execution_count": 40,
      "outputs": [
        {
          "output_type": "stream",
          "name": "stdout",
          "text": [
            "[208500. 181500. 223500. ... 266500. 142125. 147500.]\n"
          ]
        }
      ]
    },
    {
      "cell_type": "markdown",
      "source": [
        "#**Think About Your Results**"
      ],
      "metadata": {
        "id": "vR-qk4EG3huc"
      }
    },
    {
      "cell_type": "code",
      "source": [
        "# You can write code in this cell\n",
        "print(X.head())"
      ],
      "metadata": {
        "colab": {
          "base_uri": "https://localhost:8080/"
        },
        "id": "kEbaQycP3VYL",
        "outputId": "78f0fd2c-73f7-40ba-e184-994e8167858f"
      },
      "execution_count": 41,
      "outputs": [
        {
          "output_type": "stream",
          "name": "stdout",
          "text": [
            "   LotArea  YearBuilt  1stFlrSF  2ndFlrSF  FullBath  BedroomAbvGr  \\\n",
            "0     8450       2003       856       854         2             3   \n",
            "1     9600       1976      1262         0         2             3   \n",
            "2    11250       2001       920       866         2             3   \n",
            "3     9550       1915       961       756         1             3   \n",
            "4    14260       2000      1145      1053         2             4   \n",
            "\n",
            "   TotRmsAbvGrd  \n",
            "0             8  \n",
            "1             6  \n",
            "2             6  \n",
            "3             7  \n",
            "4             9  \n"
          ]
        }
      ]
    },
    {
      "cell_type": "markdown",
      "source": [
        "#**Model Validation**"
      ],
      "metadata": {
        "id": "k8HrSN_z3vzY"
      }
    },
    {
      "cell_type": "markdown",
      "source": [
        "#**Exercises**\n",
        "\n",
        "##**Step 1: Split Your Data**"
      ],
      "metadata": {
        "id": "VdIU_CER4R4R"
      }
    },
    {
      "cell_type": "code",
      "source": [
        "# Import the train_test_split function and uncomment\n",
        "from sklearn.model_selection import train_test_split\n",
        "\n",
        "# fill in and uncomment\n",
        "train_X, val_X, train_y, val_y = train_test_split(X, y, random_state = 1)\n",
        "\n",
        "# Check your answer\n",
        "print(train_X)\n",
        "print(val_X)\n",
        "print(train_y)\n",
        "print(val_y)\n",
        "#"
      ],
      "metadata": {
        "colab": {
          "base_uri": "https://localhost:8080/"
        },
        "id": "xazRB_4O3ok_",
        "outputId": "45ab0d19-8506-4e44-94c3-c0ffe05f4c0d"
      },
      "execution_count": 42,
      "outputs": [
        {
          "output_type": "stream",
          "name": "stdout",
          "text": [
            "      LotArea  YearBuilt  1stFlrSF  2ndFlrSF  FullBath  BedroomAbvGr  \\\n",
            "6       10084       2004      1694         0         2             3   \n",
            "807     21384       1923      1072       504         1             3   \n",
            "955      7136       1946       979       979         2             4   \n",
            "1040    13125       1957      1803         0         2             3   \n",
            "701      9600       1969      1164         0         1             3   \n",
            "...       ...        ...       ...       ...       ...           ...   \n",
            "715     10140       1974      1350         0         2             3   \n",
            "905      9920       1954      1063         0         1             3   \n",
            "1096     6882       1914       773       582         1             3   \n",
            "235      1680       1971       483       504         1             2   \n",
            "1061    18000       1935       894         0         1             2   \n",
            "\n",
            "      TotRmsAbvGrd  \n",
            "6                7  \n",
            "807              6  \n",
            "955              8  \n",
            "1040             8  \n",
            "701              6  \n",
            "...            ...  \n",
            "715              7  \n",
            "905              6  \n",
            "1096             7  \n",
            "235              5  \n",
            "1061             6  \n",
            "\n",
            "[1095 rows x 7 columns]\n",
            "      LotArea  YearBuilt  1stFlrSF  2ndFlrSF  FullBath  BedroomAbvGr  \\\n",
            "258     12435       2001       963       829         2             3   \n",
            "267      8400       1939      1052       720         2             4   \n",
            "288      9819       1967       900         0         1             3   \n",
            "649      1936       1970       630         0         1             1   \n",
            "1233    12160       1959      1188         0         1             3   \n",
            "...       ...        ...       ...       ...       ...           ...   \n",
            "1017     5814       1984      1360         0         1             1   \n",
            "534      9056       2004       707       707         2             3   \n",
            "1334     2368       1970       765       600         1             3   \n",
            "1369    10635       2003      1668         0         2             3   \n",
            "628     11606       1969      1040      1040         1             5   \n",
            "\n",
            "      TotRmsAbvGrd  \n",
            "258              7  \n",
            "267              8  \n",
            "288              5  \n",
            "649              3  \n",
            "1233             6  \n",
            "...            ...  \n",
            "1017             4  \n",
            "534              6  \n",
            "1334             7  \n",
            "1369             8  \n",
            "628              9  \n",
            "\n",
            "[365 rows x 7 columns]\n",
            "6       307000\n",
            "807     223500\n",
            "955     145000\n",
            "1040    155000\n",
            "701     140000\n",
            "         ...  \n",
            "715     165000\n",
            "905     128000\n",
            "1096    127000\n",
            "235      89500\n",
            "1061     81000\n",
            "Name: SalePrice, Length: 1095, dtype: int64\n",
            "258     231500\n",
            "267     179500\n",
            "288     122000\n",
            "649      84500\n",
            "1233    142000\n",
            "         ...  \n",
            "1017    187500\n",
            "534     178000\n",
            "1334    125000\n",
            "1369    232000\n",
            "628     135000\n",
            "Name: SalePrice, Length: 365, dtype: int64\n"
          ]
        }
      ]
    },
    {
      "cell_type": "markdown",
      "source": [
        "##**Step 2: Specify and Fit the Model**"
      ],
      "metadata": {
        "id": "HNLmcB464rvP"
      }
    },
    {
      "cell_type": "code",
      "source": [
        "from sklearn.tree import DecisionTreeRegressor\n",
        "\n",
        "# specify the model\n",
        "iowa_model = DecisionTreeRegressor(random_state=1)\n",
        "\n",
        "# fit the model\n",
        "iowa_model.fit(train_X, train_y)\n",
        "\n",
        "# Check your answer\n",
        "print(iowa_model)\n",
        "#"
      ],
      "metadata": {
        "colab": {
          "base_uri": "https://localhost:8080/"
        },
        "id": "ZDncjfLz4kCc",
        "outputId": "550194b5-fd6a-4105-beed-0b313000ddbd"
      },
      "execution_count": 43,
      "outputs": [
        {
          "output_type": "stream",
          "name": "stdout",
          "text": [
            "DecisionTreeRegressor(random_state=1)\n"
          ]
        }
      ]
    },
    {
      "cell_type": "markdown",
      "source": [
        "##**Step 3: Make Predictions with Validation data**"
      ],
      "metadata": {
        "id": "0xbLmY3L5DuQ"
      }
    },
    {
      "cell_type": "code",
      "source": [
        "# Predict with all validation observations\n",
        "val_predictions = iowa_model.predict(val_X)\n",
        "\n",
        "# Check your answer\n",
        "print(val_predictions)"
      ],
      "metadata": {
        "colab": {
          "base_uri": "https://localhost:8080/"
        },
        "id": "6_iSvB-h4-YE",
        "outputId": "8ee4e7e3-eee5-4854-b628-db361e964ddc"
      },
      "execution_count": 44,
      "outputs": [
        {
          "output_type": "stream",
          "name": "stdout",
          "text": [
            "[186500. 184000. 130000.  92000. 164500. 220000. 335000. 144152. 215000.\n",
            " 262000. 180000. 121000. 175900. 210000. 248900. 131000. 100000. 149350.\n",
            " 235000. 156000. 149900. 265979. 193500. 377500. 100000. 162900. 145000.\n",
            " 180000. 582933. 146000. 140000.  91500. 112500. 113000. 145000. 312500.\n",
            " 110000. 132000. 305000. 128000. 162900. 115000. 110000. 124000. 215200.\n",
            " 180000.  79000. 192000. 282922. 235000. 132000. 325000.  80000. 237000.\n",
            " 208300. 100000. 120500. 162000. 153000. 187000. 185750. 335000. 129000.\n",
            " 124900. 185750. 133700. 127000. 230000. 146800. 157900. 136000. 153575.\n",
            " 335000. 177500. 143000. 202500. 168500. 105000. 305900. 192000. 190000.\n",
            " 140200. 134900. 128950. 213000. 108959. 149500. 190000. 175900. 160000.\n",
            " 250580. 157000. 120500. 147500. 118000. 117000. 110000. 130000. 148500.\n",
            " 148000. 190000. 130500. 127000. 120500. 135000. 168000. 176432. 128000.\n",
            " 147000. 260000. 132000. 129500. 171000. 181134. 227875. 189000. 282922.\n",
            "  94750. 185000. 194000. 159000. 279500. 290000. 135000. 299800. 165000.\n",
            " 394432. 135750. 155000. 212000. 310000. 134800.  84000. 122900.  80000.\n",
            " 191000. 755000. 147000. 248000. 106500. 145000. 359100. 145000. 192500.\n",
            " 149000. 252000. 109000. 215000. 220000. 138500. 185000. 185000. 120500.\n",
            " 181000. 173000. 335000.  67000. 149350.  67000. 156000. 119000. 110500.\n",
            " 184000. 147000. 156000. 171000. 177000. 159000. 125000. 105000. 284000.\n",
            " 167500. 200000. 312500. 213000. 135960. 205000. 237000. 107000. 163000.\n",
            " 132500. 155835. 165500. 138500. 257000. 160000. 394617. 281213. 161000.\n",
            " 127500.  88000. 139000.  89500. 132500. 134800. 335000. 248900. 155000.\n",
            " 147000.  86000. 185000. 200000. 180500. 215200. 319900. 105000. 194000.\n",
            " 340000. 256000. 280000. 186500. 105500. 155000. 133500. 255500. 253000.\n",
            " 130000.  92900. 256000. 100000. 755000. 138500. 168500. 112000. 127000.\n",
            " 109008. 197000. 245500. 171900. 162000. 128000. 173000. 132000. 118000.\n",
            " 235128. 118964. 260000. 116000. 185000. 315750. 236500. 140000. 151500.\n",
            " 184000.  84000. 130000. 154000. 205000. 110000. 151500. 123000. 129500.\n",
            " 173900. 181500. 165500. 106500. 184900.  84500. 377500. 118500. 180000.\n",
            " 190000. 208500. 181000.  98000. 157000. 151500.  84000. 139000. 100000.\n",
            " 161750. 165600. 116000. 118500. 187000. 147000. 112000. 132000. 230000.\n",
            " 128000. 147000. 125000. 145000. 151000. 284000. 221000. 140200. 129000.\n",
            " 290000. 105000.  96500. 310000. 140000. 132000. 203000. 221000. 215200.\n",
            " 214000. 139000.  91500. 148000. 155000. 115000. 180000. 165500. 223000.\n",
            " 139000. 179900. 150000. 185000. 163000. 176000. 127000. 227000. 146000.\n",
            "  99900. 275000. 180500. 180000. 157000. 186500. 179900. 137500. 219500.\n",
            " 155000. 345000. 197000. 205000. 159000. 159434. 156000. 196000. 252678.\n",
            " 255500. 213000. 150900. 143750. 139000. 260000. 189000. 213250. 207500.\n",
            "  80000. 221000. 109500. 155000. 165000. 149350. 204900. 105900. 155000.\n",
            " 176000. 395000. 149700. 147000. 143900. 226700. 176000. 116000. 325300.\n",
            " 133750. 188500. 148500. 284000. 201800.]\n"
          ]
        }
      ]
    },
    {
      "cell_type": "code",
      "source": [
        "# print the top few validation predictions\n",
        "print(val_predictions[:5])\n",
        "# print the top few actual prices from validation data\n",
        "print(val_y.head())\n",
        "#"
      ],
      "metadata": {
        "colab": {
          "base_uri": "https://localhost:8080/"
        },
        "id": "uF8M6cPB5LZk",
        "outputId": "15011941-c9b8-4067-85c4-48deff5969ab"
      },
      "execution_count": 45,
      "outputs": [
        {
          "output_type": "stream",
          "name": "stdout",
          "text": [
            "[186500. 184000. 130000.  92000. 164500.]\n",
            "258     231500\n",
            "267     179500\n",
            "288     122000\n",
            "649      84500\n",
            "1233    142000\n",
            "Name: SalePrice, dtype: int64\n"
          ]
        }
      ]
    },
    {
      "cell_type": "markdown",
      "source": [
        "##**Step 4: Calculate the Mean Absolute Error in Validation Data**"
      ],
      "metadata": {
        "id": "yNHHREFM5Z71"
      }
    },
    {
      "cell_type": "code",
      "source": [
        "from sklearn.metrics import mean_absolute_error\n",
        "val_mae = mean_absolute_error(val_y, val_predictions)\n",
        "\n",
        "# uncomment following line to see the validation_mae\n",
        "print(val_mae)\n",
        "#"
      ],
      "metadata": {
        "colab": {
          "base_uri": "https://localhost:8080/"
        },
        "id": "hQ0DKqn25UlT",
        "outputId": "a7488006-1826-4cf9-a69e-d0b6a562accf"
      },
      "execution_count": 46,
      "outputs": [
        {
          "output_type": "stream",
          "name": "stdout",
          "text": [
            "29652.931506849316\n"
          ]
        }
      ]
    },
    {
      "cell_type": "markdown",
      "source": [
        "#**Underfitting and Overfitting**"
      ],
      "metadata": {
        "id": "JflKkcla6VCn"
      }
    },
    {
      "cell_type": "markdown",
      "source": [
        "#**Exercises**\n",
        "\n",
        "##**Step 1: Compare Different Tree Sizes**"
      ],
      "metadata": {
        "id": "N-IlqOcE6nEN"
      }
    },
    {
      "cell_type": "code",
      "source": [
        "def get_mae(max_leaf_nodes, train_X, val_X, train_y, val_y):\n",
        "    model = DecisionTreeRegressor(max_leaf_nodes=max_leaf_nodes, random_state=0)\n",
        "    model.fit(train_X, train_y)\n",
        "    preds_val = model.predict(val_X)\n",
        "    mae = mean_absolute_error(val_y, preds_val)\n",
        "    return(mae)"
      ],
      "metadata": {
        "id": "qGA5e5qT5v3y"
      },
      "execution_count": 47,
      "outputs": []
    },
    {
      "cell_type": "code",
      "source": [
        "max_leaf_nodes = [5, 25, 50, 100, 250, 500]\n",
        "# Write loop to find the ideal tree size from max_leaf_nodes\n",
        "scores = {leaf_size: get_mae(leaf_size, train_X, val_X, train_y, val_y) for leaf_size in max_leaf_nodes}\n",
        "\n",
        "# Store the best value of max_leaf_nodes (it will be either 5, 25, 50, 100, 250 or 500)\n",
        "best_tree_size = min(scores, key=scores.get)\n",
        "\n",
        "# Check your answer\n",
        "print(best_tree_size)\n"
      ],
      "metadata": {
        "colab": {
          "base_uri": "https://localhost:8080/"
        },
        "id": "kWe1oWHP612v",
        "outputId": "1b1a565c-e395-40ec-97c7-8fedfda46eb4"
      },
      "execution_count": 52,
      "outputs": [
        {
          "output_type": "stream",
          "name": "stdout",
          "text": [
            "100\n"
          ]
        }
      ]
    },
    {
      "cell_type": "markdown",
      "source": [
        "##**Step 2: Fit Model Using All Data**"
      ],
      "metadata": {
        "id": "dS3bJmwO9JZX"
      }
    },
    {
      "cell_type": "code",
      "source": [
        "# Fill in argument to make optimal size and uncomment\n",
        "final_model = DecisionTreeRegressor(max_leaf_nodes=best_tree_size, random_state=1)\n",
        "\n",
        "# fit the final model and uncomment the next two lines\n",
        "final_model.fit(X, y)\n",
        "\n",
        "# Check your answer\n",
        "print(final_model)\n",
        "#"
      ],
      "metadata": {
        "colab": {
          "base_uri": "https://localhost:8080/"
        },
        "id": "nG_55iOW7Ka4",
        "outputId": "a54993f6-6dee-492f-bb7a-f46f4d1bdadc"
      },
      "execution_count": 53,
      "outputs": [
        {
          "output_type": "stream",
          "name": "stdout",
          "text": [
            "DecisionTreeRegressor(max_leaf_nodes=100, random_state=1)\n"
          ]
        }
      ]
    },
    {
      "cell_type": "markdown",
      "source": [
        "#**Random forest**"
      ],
      "metadata": {
        "id": "hnQUWcOu9bpW"
      }
    },
    {
      "cell_type": "markdown",
      "source": [
        "#**Exercises**\n",
        "\n",
        "##**Step 1: Use a Random Forest**"
      ],
      "metadata": {
        "id": "mfdqbKzM9y7n"
      }
    },
    {
      "cell_type": "code",
      "source": [
        "from sklearn.ensemble import RandomForestRegressor\n",
        "\n",
        "# Define the model. Set random_state to 1\n",
        "rf_model = RandomForestRegressor(random_state=1)\n",
        "\n",
        "# fit your model\n",
        "rf_model.fit(train_X, train_y)\n",
        "\n",
        "# Calculate the mean absolute error of your Random Forest model on the validation data\n",
        "rf_val_predictions = rf_model.predict(val_X)\n",
        "rf_val_mae = mean_absolute_error(rf_val_predictions, val_y)\n",
        "\n",
        "\n",
        "# Check your answer\n",
        "print(\"Validation MAE for Random Forest Model: {}\".format(rf_val_mae))\n",
        "\n"
      ],
      "metadata": {
        "colab": {
          "base_uri": "https://localhost:8080/"
        },
        "id": "hq0_t07R9VH2",
        "outputId": "4dc6fb61-0780-45a4-9e5f-76818d955b12"
      },
      "execution_count": 54,
      "outputs": [
        {
          "output_type": "stream",
          "name": "stdout",
          "text": [
            "Validation MAE for Random Forest Model: 21857.15912981083\n"
          ]
        }
      ]
    },
    {
      "cell_type": "markdown",
      "source": [
        "#**Machine Learning Competitions**"
      ],
      "metadata": {
        "id": "pupGGavU-dQe"
      }
    },
    {
      "cell_type": "markdown",
      "source": [
        "#**Train a model for the competition**"
      ],
      "metadata": {
        "id": "d4myIerg-sbX"
      }
    },
    {
      "cell_type": "code",
      "source": [
        "# To improve accuracy, create a new Random Forest model which you will train on all training data\n",
        "rf_model_on_full_data = RandomForestRegressor()\n",
        "\n",
        "# fit rf_model_on_full_data on all data from the training data\n",
        "rf_model_on_full_data.fit(X, y)\n"
      ],
      "metadata": {
        "colab": {
          "base_uri": "https://localhost:8080/",
          "height": 74
        },
        "id": "M-AF9YKF-Sy-",
        "outputId": "24c8c072-ca17-4129-ce92-433d27130fc2"
      },
      "execution_count": 55,
      "outputs": [
        {
          "output_type": "execute_result",
          "data": {
            "text/plain": [
              "RandomForestRegressor()"
            ],
            "text/html": [
              "<style>#sk-container-id-1 {color: black;}#sk-container-id-1 pre{padding: 0;}#sk-container-id-1 div.sk-toggleable {background-color: white;}#sk-container-id-1 label.sk-toggleable__label {cursor: pointer;display: block;width: 100%;margin-bottom: 0;padding: 0.3em;box-sizing: border-box;text-align: center;}#sk-container-id-1 label.sk-toggleable__label-arrow:before {content: \"▸\";float: left;margin-right: 0.25em;color: #696969;}#sk-container-id-1 label.sk-toggleable__label-arrow:hover:before {color: black;}#sk-container-id-1 div.sk-estimator:hover label.sk-toggleable__label-arrow:before {color: black;}#sk-container-id-1 div.sk-toggleable__content {max-height: 0;max-width: 0;overflow: hidden;text-align: left;background-color: #f0f8ff;}#sk-container-id-1 div.sk-toggleable__content pre {margin: 0.2em;color: black;border-radius: 0.25em;background-color: #f0f8ff;}#sk-container-id-1 input.sk-toggleable__control:checked~div.sk-toggleable__content {max-height: 200px;max-width: 100%;overflow: auto;}#sk-container-id-1 input.sk-toggleable__control:checked~label.sk-toggleable__label-arrow:before {content: \"▾\";}#sk-container-id-1 div.sk-estimator input.sk-toggleable__control:checked~label.sk-toggleable__label {background-color: #d4ebff;}#sk-container-id-1 div.sk-label input.sk-toggleable__control:checked~label.sk-toggleable__label {background-color: #d4ebff;}#sk-container-id-1 input.sk-hidden--visually {border: 0;clip: rect(1px 1px 1px 1px);clip: rect(1px, 1px, 1px, 1px);height: 1px;margin: -1px;overflow: hidden;padding: 0;position: absolute;width: 1px;}#sk-container-id-1 div.sk-estimator {font-family: monospace;background-color: #f0f8ff;border: 1px dotted black;border-radius: 0.25em;box-sizing: border-box;margin-bottom: 0.5em;}#sk-container-id-1 div.sk-estimator:hover {background-color: #d4ebff;}#sk-container-id-1 div.sk-parallel-item::after {content: \"\";width: 100%;border-bottom: 1px solid gray;flex-grow: 1;}#sk-container-id-1 div.sk-label:hover label.sk-toggleable__label {background-color: #d4ebff;}#sk-container-id-1 div.sk-serial::before {content: \"\";position: absolute;border-left: 1px solid gray;box-sizing: border-box;top: 0;bottom: 0;left: 50%;z-index: 0;}#sk-container-id-1 div.sk-serial {display: flex;flex-direction: column;align-items: center;background-color: white;padding-right: 0.2em;padding-left: 0.2em;position: relative;}#sk-container-id-1 div.sk-item {position: relative;z-index: 1;}#sk-container-id-1 div.sk-parallel {display: flex;align-items: stretch;justify-content: center;background-color: white;position: relative;}#sk-container-id-1 div.sk-item::before, #sk-container-id-1 div.sk-parallel-item::before {content: \"\";position: absolute;border-left: 1px solid gray;box-sizing: border-box;top: 0;bottom: 0;left: 50%;z-index: -1;}#sk-container-id-1 div.sk-parallel-item {display: flex;flex-direction: column;z-index: 1;position: relative;background-color: white;}#sk-container-id-1 div.sk-parallel-item:first-child::after {align-self: flex-end;width: 50%;}#sk-container-id-1 div.sk-parallel-item:last-child::after {align-self: flex-start;width: 50%;}#sk-container-id-1 div.sk-parallel-item:only-child::after {width: 0;}#sk-container-id-1 div.sk-dashed-wrapped {border: 1px dashed gray;margin: 0 0.4em 0.5em 0.4em;box-sizing: border-box;padding-bottom: 0.4em;background-color: white;}#sk-container-id-1 div.sk-label label {font-family: monospace;font-weight: bold;display: inline-block;line-height: 1.2em;}#sk-container-id-1 div.sk-label-container {text-align: center;}#sk-container-id-1 div.sk-container {/* jupyter's `normalize.less` sets `[hidden] { display: none; }` but bootstrap.min.css set `[hidden] { display: none !important; }` so we also need the `!important` here to be able to override the default hidden behavior on the sphinx rendered scikit-learn.org. See: https://github.com/scikit-learn/scikit-learn/issues/21755 */display: inline-block !important;position: relative;}#sk-container-id-1 div.sk-text-repr-fallback {display: none;}</style><div id=\"sk-container-id-1\" class=\"sk-top-container\"><div class=\"sk-text-repr-fallback\"><pre>RandomForestRegressor()</pre><b>In a Jupyter environment, please rerun this cell to show the HTML representation or trust the notebook. <br />On GitHub, the HTML representation is unable to render, please try loading this page with nbviewer.org.</b></div><div class=\"sk-container\" hidden><div class=\"sk-item\"><div class=\"sk-estimator sk-toggleable\"><input class=\"sk-toggleable__control sk-hidden--visually\" id=\"sk-estimator-id-1\" type=\"checkbox\" checked><label for=\"sk-estimator-id-1\" class=\"sk-toggleable__label sk-toggleable__label-arrow\">RandomForestRegressor</label><div class=\"sk-toggleable__content\"><pre>RandomForestRegressor()</pre></div></div></div></div></div>"
            ]
          },
          "metadata": {},
          "execution_count": 55
        }
      ]
    },
    {
      "cell_type": "code",
      "source": [
        "# path to file you will use for predictions\n",
        "test_data_path = '/content/test data set.csv'\n",
        "\n",
        "# read test data file using pandas\n",
        "test_data = pd.read_csv(test_data_path)\n",
        "\n",
        "# create test_X which comes from test_data but includes only the columns you used for prediction.\n",
        "# The list of columns is stored in a variable called features\n",
        "test_X = test_data[feature_names]\n",
        "\n",
        "# make predictions which we will submit.\n",
        "test_preds = rf_model_on_full_data.predict(test_X)\n",
        "\n"
      ],
      "metadata": {
        "id": "9kOQoavG-5z1"
      },
      "execution_count": 59,
      "outputs": []
    },
    {
      "cell_type": "markdown",
      "source": [
        "#**Generate a submission**"
      ],
      "metadata": {
        "id": "YYeEBfcsC-be"
      }
    },
    {
      "cell_type": "code",
      "source": [
        "# Run the code to save predictions in the format used for competition scoring\n",
        "\n",
        "output = pd.DataFrame({'Id': test_data.Id,\n",
        "                       'SalePrice': test_preds})\n",
        "output.to_csv('submission.csv', index=False)"
      ],
      "metadata": {
        "id": "G6ZCvgUC_VF6"
      },
      "execution_count": 60,
      "outputs": []
    },
    {
      "cell_type": "code",
      "source": [],
      "metadata": {
        "id": "AySCWXQXDOld"
      },
      "execution_count": null,
      "outputs": []
    }
  ]
}